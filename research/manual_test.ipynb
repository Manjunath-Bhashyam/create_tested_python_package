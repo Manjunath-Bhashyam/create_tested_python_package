{
 "cells": [
  {
   "cell_type": "code",
   "execution_count": 1,
   "metadata": {},
   "outputs": [
    {
     "data": {
      "text/plain": [
       "('roO5VGxOw2s', 0)"
      ]
     },
     "execution_count": 1,
     "metadata": {},
     "output_type": "execute_result"
    }
   ],
   "source": [
    "URL1 = \"https://www.youtube.com/watch?v=roO5VGxOw2s\"\n",
    "URL1.split(\"=\")[-1], 0"
   ]
  },
  {
   "cell_type": "code",
   "execution_count": 2,
   "metadata": {},
   "outputs": [
    {
     "data": {
      "text/plain": [
       "('roO5VGxOw2s', 0)"
      ]
     },
     "execution_count": 2,
     "metadata": {},
     "output_type": "execute_result"
    }
   ],
   "source": [
    "URL2 = \"https://youtu.be/roO5VGxOw2s\"\n",
    "URL2.split(\"/\")[-1], 0"
   ]
  },
  {
   "cell_type": "code",
   "execution_count": 3,
   "metadata": {},
   "outputs": [
    {
     "data": {
      "text/plain": [
       "['https://youtu.be/roO5VGxOw2s?t', '60']"
      ]
     },
     "execution_count": 3,
     "metadata": {},
     "output_type": "execute_result"
    }
   ],
   "source": [
    "URL3 = \"https://youtu.be/roO5VGxOw2s?t=60\"\n",
    "URL3.split(\"=\")"
   ]
  },
  {
   "cell_type": "code",
   "execution_count": 4,
   "metadata": {},
   "outputs": [
    {
     "data": {
      "text/plain": [
       "['https:', '', 'youtu.be', 'roO5VGxOw2s?t']"
      ]
     },
     "execution_count": 4,
     "metadata": {},
     "output_type": "execute_result"
    }
   ],
   "source": [
    "URL3.split(\"=\")[0].split(\"/\")"
   ]
  },
  {
   "cell_type": "code",
   "execution_count": 5,
   "metadata": {},
   "outputs": [
    {
     "data": {
      "text/plain": [
       "'roO5VGxOw2s'"
      ]
     },
     "execution_count": 5,
     "metadata": {},
     "output_type": "execute_result"
    }
   ],
   "source": [
    "URL3.split(\"=\")[0].split(\"/\")[-1][:-2]"
   ]
  },
  {
   "cell_type": "code",
   "execution_count": 5,
   "metadata": {},
   "outputs": [
    {
     "data": {
      "text/plain": [
       "['https://www.youtube.com/watch?v', 'roO5VGxOw2s&t', '60s']"
      ]
     },
     "execution_count": 5,
     "metadata": {},
     "output_type": "execute_result"
    }
   ],
   "source": [
    "URL4 = \"https://www.youtube.com/watch?v=roO5VGxOw2s&t=60s\"\n",
    "URL4.split(\"=\")"
   ]
  },
  {
   "cell_type": "code",
   "execution_count": 6,
   "metadata": {},
   "outputs": [
    {
     "data": {
      "text/plain": [
       "'roO5VGxOw2s'"
      ]
     },
     "execution_count": 6,
     "metadata": {},
     "output_type": "execute_result"
    }
   ],
   "source": [
    "URL4.split(\"=\")[-2][:-2]"
   ]
  },
  {
   "cell_type": "code",
   "execution_count": 7,
   "metadata": {},
   "outputs": [],
   "source": [
    "from IPYNBrenderer import render_YouTube_video"
   ]
  },
  {
   "cell_type": "code",
   "execution_count": 8,
   "metadata": {},
   "outputs": [
    {
     "name": "stdout",
     "output_type": "stream",
     "text": [
      "[2024-09-14 22:05:32,833:INFO:youtube]: video starts at: 0\n",
      "[2024-09-14 22:05:32,841:INFO:youtube]: embed URL:https://www.youtube.com/embed/roO5VGxOw2s?start=0\n"
     ]
    },
    {
     "data": {
      "text/html": [
       "<iframe\n",
       "            width=780 height=160\n",
       "            src=https://www.youtube.com/embed/roO5VGxOw2s?start=0\n",
       "            title=\"YouTube video player\"\n",
       "            frameborder=\"0\"\n",
       "            allow=\"accelerometer;\n",
       "            autoplay; clipboard-write;\n",
       "            encrypted-media; gyroscope;\n",
       "            picture-in-picture;\n",
       "            web-share\" referrerpolicy=\"strict-origin-when-cross-origin\" allowfullscreen>\n",
       "            </iframe>\n",
       "            "
      ],
      "text/plain": [
       "<IPython.core.display.HTML object>"
      ]
     },
     "metadata": {},
     "output_type": "display_data"
    },
    {
     "data": {
      "text/plain": [
       "'success'"
      ]
     },
     "execution_count": 8,
     "metadata": {},
     "output_type": "execute_result"
    }
   ],
   "source": [
    "render_YouTube_video(URL1)"
   ]
  },
  {
   "cell_type": "code",
   "execution_count": 9,
   "metadata": {},
   "outputs": [
    {
     "name": "stdout",
     "output_type": "stream",
     "text": [
      "[2024-09-14 22:05:40,155:INFO:youtube]: video starts at: 0\n",
      "[2024-09-14 22:05:40,164:INFO:youtube]: embed URL:https://www.youtube.com/embed/roO5VGxOw2s?start=0\n"
     ]
    },
    {
     "data": {
      "text/html": [
       "<iframe\n",
       "            width=780 height=160\n",
       "            src=https://www.youtube.com/embed/roO5VGxOw2s?start=0\n",
       "            title=\"YouTube video player\"\n",
       "            frameborder=\"0\"\n",
       "            allow=\"accelerometer;\n",
       "            autoplay; clipboard-write;\n",
       "            encrypted-media; gyroscope;\n",
       "            picture-in-picture;\n",
       "            web-share\" referrerpolicy=\"strict-origin-when-cross-origin\" allowfullscreen>\n",
       "            </iframe>\n",
       "            "
      ],
      "text/plain": [
       "<IPython.core.display.HTML object>"
      ]
     },
     "metadata": {},
     "output_type": "display_data"
    },
    {
     "data": {
      "text/plain": [
       "'success'"
      ]
     },
     "execution_count": 9,
     "metadata": {},
     "output_type": "execute_result"
    }
   ],
   "source": [
    "render_YouTube_video(URL2)"
   ]
  },
  {
   "cell_type": "code",
   "execution_count": 10,
   "metadata": {},
   "outputs": [
    {
     "name": "stdout",
     "output_type": "stream",
     "text": [
      "[2024-09-14 22:05:44,607:INFO:youtube]: video starts at: 60\n",
      "[2024-09-14 22:05:44,615:INFO:youtube]: embed URL:https://www.youtube.com/embed/roO5VGxOw2s?start=60\n"
     ]
    },
    {
     "data": {
      "text/html": [
       "<iframe\n",
       "            width=780 height=160\n",
       "            src=https://www.youtube.com/embed/roO5VGxOw2s?start=60\n",
       "            title=\"YouTube video player\"\n",
       "            frameborder=\"0\"\n",
       "            allow=\"accelerometer;\n",
       "            autoplay; clipboard-write;\n",
       "            encrypted-media; gyroscope;\n",
       "            picture-in-picture;\n",
       "            web-share\" referrerpolicy=\"strict-origin-when-cross-origin\" allowfullscreen>\n",
       "            </iframe>\n",
       "            "
      ],
      "text/plain": [
       "<IPython.core.display.HTML object>"
      ]
     },
     "metadata": {},
     "output_type": "display_data"
    },
    {
     "data": {
      "text/plain": [
       "'success'"
      ]
     },
     "execution_count": 10,
     "metadata": {},
     "output_type": "execute_result"
    }
   ],
   "source": [
    "render_YouTube_video(URL3)"
   ]
  },
  {
   "cell_type": "code",
   "execution_count": 11,
   "metadata": {},
   "outputs": [
    {
     "data": {
      "text/plain": [
       "'https://www.youtube.com/watch?v=roO5VGxOw2s&t=60s'"
      ]
     },
     "execution_count": 11,
     "metadata": {},
     "output_type": "execute_result"
    }
   ],
   "source": [
    "URL4"
   ]
  },
  {
   "cell_type": "code",
   "execution_count": 12,
   "metadata": {},
   "outputs": [
    {
     "name": "stdout",
     "output_type": "stream",
     "text": [
      "[2024-09-14 22:05:49,698:INFO:youtube]: video starts at: 60\n",
      "[2024-09-14 22:05:49,698:INFO:youtube]: embed URL:https://www.youtube.com/embed/roO5VGxOw2s?start=60\n"
     ]
    },
    {
     "data": {
      "text/html": [
       "<iframe\n",
       "            width=780 height=160\n",
       "            src=https://www.youtube.com/embed/roO5VGxOw2s?start=60\n",
       "            title=\"YouTube video player\"\n",
       "            frameborder=\"0\"\n",
       "            allow=\"accelerometer;\n",
       "            autoplay; clipboard-write;\n",
       "            encrypted-media; gyroscope;\n",
       "            picture-in-picture;\n",
       "            web-share\" referrerpolicy=\"strict-origin-when-cross-origin\" allowfullscreen>\n",
       "            </iframe>\n",
       "            "
      ],
      "text/plain": [
       "<IPython.core.display.HTML object>"
      ]
     },
     "metadata": {},
     "output_type": "display_data"
    },
    {
     "data": {
      "text/plain": [
       "'success'"
      ]
     },
     "execution_count": 12,
     "metadata": {},
     "output_type": "execute_result"
    }
   ],
   "source": [
    "render_YouTube_video(URL4)"
   ]
  },
  {
   "cell_type": "code",
   "execution_count": null,
   "metadata": {},
   "outputs": [],
   "source": []
  }
 ],
 "metadata": {
  "kernelspec": {
   "display_name": "Python 3.8.13 (conda)",
   "language": "python",
   "name": "python3"
  },
  "language_info": {
   "codemirror_mode": {
    "name": "ipython",
    "version": 3
   },
   "file_extension": ".py",
   "mimetype": "text/x-python",
   "name": "python",
   "nbconvert_exporter": "python",
   "pygments_lexer": "ipython3",
   "version": "3.10.11"
  },
  "orig_nbformat": 4,
  "vscode": {
   "interpreter": {
    "hash": "9a54a38b40ef06367036eacd27909aaaca05bad8bda386716f795536d4b8961f"
   }
  }
 },
 "nbformat": 4,
 "nbformat_minor": 2
}
